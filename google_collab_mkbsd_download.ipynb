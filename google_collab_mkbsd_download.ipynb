{
  "nbformat": 4,
  "nbformat_minor": 0,
  "metadata": {
    "colab": {
      "provenance": [],
      "toc_visible": true
    },
    "kernelspec": {
      "name": "python3",
      "display_name": "Python 3"
    },
    "language_info": {
      "name": "python"
    }
  },
  "cells": [
    {
      "cell_type": "code",
      "execution_count": 1,
      "metadata": {
        "colab": {
          "base_uri": "https://localhost:8080/"
        },
        "id": "8YE1tnux0nI8",
        "outputId": "5b5062f7-3ad2-4e58-f15e-1e238c3f93ea"
      },
      "outputs": [
        {
          "output_type": "stream",
          "name": "stdout",
          "text": [
            "Cloning into 'mkbsd'...\n",
            "remote: Enumerating objects: 31, done.\u001b[K\n",
            "remote: Counting objects: 100% (17/17), done.\u001b[K\n",
            "remote: Compressing objects: 100% (8/8), done.\u001b[K\n",
            "remote: Total 31 (delta 11), reused 9 (delta 9), pack-reused 14 (from 1)\u001b[K\n",
            "Receiving objects: 100% (31/31), 7.09 KiB | 3.54 MiB/s, done.\n",
            "Resolving deltas: 100% (11/11), done.\n"
          ]
        }
      ],
      "source": [
        "!git clone https://github.com/nadimkobeissi/mkbsd.git\n"
      ]
    },
    {
      "cell_type": "code",
      "source": [
        "cd mkbsd"
      ],
      "metadata": {
        "id": "7-PZnlcc0qX9"
      },
      "execution_count": null,
      "outputs": []
    },
    {
      "cell_type": "code",
      "source": [
        "pip install aiohttp"
      ],
      "metadata": {
        "id": "QIkX3D0x0tZK"
      },
      "execution_count": null,
      "outputs": []
    },
    {
      "cell_type": "code",
      "source": [
        "!python mkbsd.py"
      ],
      "metadata": {
        "id": "m445exQS0vfo"
      },
      "execution_count": null,
      "outputs": []
    },
    {
      "cell_type": "code",
      "source": [
        "!zip -r folder_name.zip downloads/"
      ],
      "metadata": {
        "id": "y-U0wYP40yr6"
      },
      "execution_count": null,
      "outputs": []
    },
    {
      "cell_type": "code",
      "source": [
        "from google.colab import files\n",
        "files.download('folder_name.zip')"
      ],
      "metadata": {
        "id": "H8KDt3u30zpF"
      },
      "execution_count": null,
      "outputs": []
    }
  ]
}